{
 "cells": [
  {
   "cell_type": "markdown",
   "id": "ab659160",
   "metadata": {},
   "source": [
    "#### AML Assignment 1 - Neural Networks\n",
    "#### Kent ID - 811292363"
   ]
  },
  {
   "cell_type": "code",
   "execution_count": 1,
   "id": "0ed4b517",
   "metadata": {},
   "outputs": [
    {
     "name": "stdout",
     "output_type": "stream",
     "text": [
      "WARNING:tensorflow:From C:\\Users\\reshm\\AppData\\Local\\Programs\\Python\\Python310\\lib\\site-packages\\keras\\src\\losses.py:2976: The name tf.losses.sparse_softmax_cross_entropy is deprecated. Please use tf.compat.v1.losses.sparse_softmax_cross_entropy instead.\n",
      "\n"
     ]
    }
   ],
   "source": [
    "from tensorflow.keras.datasets import imdb\n",
    "(train_data, train_labels), (test_data, test_labels) = imdb.load_data(\n",
    "    num_words=10000)"
   ]
  },
  {
   "cell_type": "code",
   "execution_count": 2,
   "id": "44d40145",
   "metadata": {},
   "outputs": [
    {
     "data": {
      "text/plain": [
       "1"
      ]
     },
     "execution_count": 2,
     "metadata": {},
     "output_type": "execute_result"
    }
   ],
   "source": [
    "train_labels[0]"
   ]
  },
  {
   "cell_type": "code",
   "execution_count": 3,
   "id": "d0b5ef8f",
   "metadata": {},
   "outputs": [
    {
     "data": {
      "text/plain": [
       "9999"
      ]
     },
     "execution_count": 3,
     "metadata": {},
     "output_type": "execute_result"
    }
   ],
   "source": [
    "max([max(sequence) for sequence in train_data])"
   ]
  },
  {
   "cell_type": "code",
   "execution_count": 4,
   "id": "cde664d8",
   "metadata": {},
   "outputs": [],
   "source": [
    "word_index = imdb.get_word_index()\n",
    "reverse_word_index = dict(\n",
    "    [(value, key) for (key, value) in word_index.items()])\n",
    "decoded_review = \" \".join(\n",
    "    [reverse_word_index.get(i - 3, \"?\") for i in train_data[0]])"
   ]
  },
  {
   "cell_type": "code",
   "execution_count": 5,
   "id": "e4240138",
   "metadata": {},
   "outputs": [],
   "source": [
    "import numpy as np\n",
    "def vectorize_sequences(sequences, dimension=10000):\n",
    "    results = np.zeros((len(sequences), dimension))\n",
    "    for i, sequence in enumerate(sequences):\n",
    "        for j in sequence:\n",
    "            results[i, j] = 1.\n",
    "    return results\n",
    "x_train = vectorize_sequences(train_data)\n",
    "x_test = vectorize_sequences(test_data)"
   ]
  },
  {
   "cell_type": "code",
   "execution_count": 6,
   "id": "f5b78735",
   "metadata": {},
   "outputs": [
    {
     "data": {
      "text/plain": [
       "array([0., 1., 1., ..., 0., 0., 0.])"
      ]
     },
     "execution_count": 6,
     "metadata": {},
     "output_type": "execute_result"
    }
   ],
   "source": [
    "x_train[0]"
   ]
  },
  {
   "cell_type": "code",
   "execution_count": 7,
   "id": "1e3aac2e",
   "metadata": {},
   "outputs": [],
   "source": [
    "y_train = np.asarray(train_labels).astype(\"float32\")\n",
    "y_test = np.asarray(test_labels).astype(\"float32\")"
   ]
  },
  {
   "cell_type": "code",
   "execution_count": 8,
   "id": "dffe8ff8",
   "metadata": {},
   "outputs": [
    {
     "name": "stdout",
     "output_type": "stream",
     "text": [
      "WARNING:tensorflow:From C:\\Users\\reshm\\AppData\\Local\\Programs\\Python\\Python310\\lib\\site-packages\\keras\\src\\backend.py:873: The name tf.get_default_graph is deprecated. Please use tf.compat.v1.get_default_graph instead.\n",
      "\n"
     ]
    }
   ],
   "source": [
    "from tensorflow import keras\n",
    "from tensorflow.keras import layers\n",
    "\n",
    "model = keras.Sequential([\n",
    "    layers.Dense(32, activation=\"tanh\"),\n",
    "    layers.Dense(32, activation=\"tanh\"),\n",
    "    layers.Dense(32, activation=\"tanh\"),\n",
    "    layers.Dense(1, activation=\"sigmoid\")\n",
    "])"
   ]
  },
  {
   "cell_type": "code",
   "execution_count": 9,
   "id": "2a208143",
   "metadata": {},
   "outputs": [
    {
     "name": "stdout",
     "output_type": "stream",
     "text": [
      "WARNING:tensorflow:From C:\\Users\\reshm\\AppData\\Local\\Programs\\Python\\Python310\\lib\\site-packages\\keras\\src\\optimizers\\__init__.py:309: The name tf.train.Optimizer is deprecated. Please use tf.compat.v1.train.Optimizer instead.\n",
      "\n"
     ]
    }
   ],
   "source": [
    "model.compile(optimizer=\"adam\", \n",
    "              loss=\"mean_squared_error\",\n",
    "              metrics=[\"accuracy\"])"
   ]
  },
  {
   "cell_type": "markdown",
   "id": "c6854f06",
   "metadata": {},
   "source": [
    "#### Model Validation"
   ]
  },
  {
   "cell_type": "code",
   "execution_count": 10,
   "id": "8b490187",
   "metadata": {},
   "outputs": [],
   "source": [
    "x_val = x_train[:10000]\n",
    "partial_x_train = x_train[10000:]\n",
    "y_val = y_train[:10000]\n",
    "partial_y_train = y_train[10000:]"
   ]
  },
  {
   "cell_type": "code",
   "execution_count": 11,
   "id": "edb1f363",
   "metadata": {},
   "outputs": [
    {
     "name": "stdout",
     "output_type": "stream",
     "text": [
      "Epoch 1/20\n",
      "WARNING:tensorflow:From C:\\Users\\reshm\\AppData\\Local\\Programs\\Python\\Python310\\lib\\site-packages\\keras\\src\\utils\\tf_utils.py:492: The name tf.ragged.RaggedTensorValue is deprecated. Please use tf.compat.v1.ragged.RaggedTensorValue instead.\n",
      "\n",
      "WARNING:tensorflow:From C:\\Users\\reshm\\AppData\\Local\\Programs\\Python\\Python310\\lib\\site-packages\\keras\\src\\engine\\base_layer_utils.py:384: The name tf.executing_eagerly_outside_functions is deprecated. Please use tf.compat.v1.executing_eagerly_outside_functions instead.\n",
      "\n",
      "59/59 [==============================] - 3s 27ms/step - loss: 0.1254 - accuracy: 0.8299 - val_loss: 0.0857 - val_accuracy: 0.8826\n",
      "Epoch 2/20\n",
      "59/59 [==============================] - 0s 7ms/step - loss: 0.0499 - accuracy: 0.9374 - val_loss: 0.0913 - val_accuracy: 0.8773\n",
      "Epoch 3/20\n",
      "59/59 [==============================] - 0s 8ms/step - loss: 0.0312 - accuracy: 0.9647 - val_loss: 0.0974 - val_accuracy: 0.8764\n",
      "Epoch 4/20\n",
      "59/59 [==============================] - 0s 8ms/step - loss: 0.0207 - accuracy: 0.9770 - val_loss: 0.1067 - val_accuracy: 0.8699\n",
      "Epoch 5/20\n",
      "59/59 [==============================] - 0s 7ms/step - loss: 0.0171 - accuracy: 0.9819 - val_loss: 0.1132 - val_accuracy: 0.8663\n",
      "Epoch 6/20\n",
      "59/59 [==============================] - 0s 8ms/step - loss: 0.0162 - accuracy: 0.9825 - val_loss: 0.1151 - val_accuracy: 0.8688\n",
      "Epoch 7/20\n",
      "59/59 [==============================] - 0s 7ms/step - loss: 0.0164 - accuracy: 0.9819 - val_loss: 0.1218 - val_accuracy: 0.8628\n",
      "Epoch 8/20\n",
      "59/59 [==============================] - 0s 8ms/step - loss: 0.0193 - accuracy: 0.9777 - val_loss: 0.1196 - val_accuracy: 0.8650\n",
      "Epoch 9/20\n",
      "59/59 [==============================] - 0s 8ms/step - loss: 0.0175 - accuracy: 0.9803 - val_loss: 0.1213 - val_accuracy: 0.8645\n",
      "Epoch 10/20\n",
      "59/59 [==============================] - 0s 8ms/step - loss: 0.0149 - accuracy: 0.9833 - val_loss: 0.1210 - val_accuracy: 0.8654\n",
      "Epoch 11/20\n",
      "59/59 [==============================] - 0s 7ms/step - loss: 0.0136 - accuracy: 0.9851 - val_loss: 0.1214 - val_accuracy: 0.8655\n",
      "Epoch 12/20\n",
      "59/59 [==============================] - 0s 7ms/step - loss: 0.0126 - accuracy: 0.9865 - val_loss: 0.1221 - val_accuracy: 0.8647\n",
      "Epoch 13/20\n",
      "59/59 [==============================] - 0s 8ms/step - loss: 0.0112 - accuracy: 0.9881 - val_loss: 0.1243 - val_accuracy: 0.8648\n",
      "Epoch 14/20\n",
      "59/59 [==============================] - 0s 7ms/step - loss: 0.0105 - accuracy: 0.9894 - val_loss: 0.1259 - val_accuracy: 0.8637\n",
      "Epoch 15/20\n",
      "59/59 [==============================] - 0s 8ms/step - loss: 0.0107 - accuracy: 0.9889 - val_loss: 0.1241 - val_accuracy: 0.8641\n",
      "Epoch 16/20\n",
      "59/59 [==============================] - 0s 8ms/step - loss: 0.0108 - accuracy: 0.9889 - val_loss: 0.1243 - val_accuracy: 0.8662\n",
      "Epoch 17/20\n",
      "59/59 [==============================] - 0s 8ms/step - loss: 0.0112 - accuracy: 0.9881 - val_loss: 0.1253 - val_accuracy: 0.8649\n",
      "Epoch 18/20\n",
      "59/59 [==============================] - 0s 8ms/step - loss: 0.0122 - accuracy: 0.9867 - val_loss: 0.1260 - val_accuracy: 0.8630\n",
      "Epoch 19/20\n",
      "59/59 [==============================] - 0s 7ms/step - loss: 0.0116 - accuracy: 0.9873 - val_loss: 0.1251 - val_accuracy: 0.8645\n",
      "Epoch 20/20\n",
      "59/59 [==============================] - 0s 7ms/step - loss: 0.0105 - accuracy: 0.9891 - val_loss: 0.1269 - val_accuracy: 0.8646\n"
     ]
    }
   ],
   "source": [
    "# Model trained with 20 epoch with batch size of 256\n",
    "\n",
    "history = model.fit(partial_x_train,\n",
    "                    partial_y_train,\n",
    "                    epochs=20,\n",
    "                    batch_size=256,\n",
    "                    validation_data=(x_val, y_val))"
   ]
  },
  {
   "cell_type": "code",
   "execution_count": 12,
   "id": "52cb1367",
   "metadata": {},
   "outputs": [
    {
     "data": {
      "text/plain": [
       "dict_keys(['loss', 'accuracy', 'val_loss', 'val_accuracy'])"
      ]
     },
     "execution_count": 12,
     "metadata": {},
     "output_type": "execute_result"
    }
   ],
   "source": [
    "history_dict = history.history\n",
    "history_dict.keys()"
   ]
  },
  {
   "cell_type": "markdown",
   "id": "97761377",
   "metadata": {},
   "source": [
    "#### Training & Validation loss Plot"
   ]
  },
  {
   "cell_type": "code",
   "execution_count": 13,
   "id": "7947e3a4",
   "metadata": {},
   "outputs": [
    {
     "data": {
      "image/png": "[encoded data removed]",
      "text/plain": [
       "<Figure size 640x480 with 1 Axes>"
      ]
     },
     "metadata": {},
     "output_type": "display_data"
    }
   ],
   "source": [
    "import matplotlib.pyplot as plt\n",
    "history_dict = history.history\n",
    "loss_values = history_dict[\"loss\"]\n",
    "val_loss_values = history_dict[\"val_loss\"]\n",
    "epochs = range(1, len(loss_values) + 1)\n",
    "plt.plot(epochs, loss_values, \"bo\", label=\"Training loss\")\n",
    "plt.plot(epochs, val_loss_values, \"b\", label=\"Validation loss\")\n",
    "plt.title(\"Training and Validation Loss\")\n",
    "plt.xlabel(\"Epochs\")\n",
    "plt.ylabel(\"Loss\")\n",
    "plt.legend()\n",
    "plt.show()"
   ]
  },
  {
   "cell_type": "markdown",
   "id": "81b8bca0",
   "metadata": {},
   "source": [
    "#### Training and validation accuracy Plot"
   ]
  },
  {
   "cell_type": "code",
   "execution_count": 14,
   "id": "f8cf4f21",
   "metadata": {},
   "outputs": [
    {
     "data": {
      "image/png": "[encoded data removed]",
      "text/plain": [
       "<Figure size 640x480 with 1 Axes>"
      ]
     },
     "metadata": {},
     "output_type": "display_data"
    }
   ],
   "source": [
    "plt.clf()\n",
    "acc = history_dict[\"accuracy\"]\n",
    "val_acc = history_dict[\"val_accuracy\"]\n",
    "plt.plot(epochs, acc, \"bo\", label=\"Training acc\")\n",
    "plt.plot(epochs, val_acc, \"b\", label=\"Validation acc\")\n",
    "plt.title(\"Training and Validation accuracy\")\n",
    "plt.xlabel(\"Epochs\")\n",
    "plt.ylabel(\"Accuracy\")\n",
    "plt.legend()\n",
    "plt.show()"
   ]
  },
  {
   "cell_type": "code",
   "execution_count": 15,
   "id": "06ad0219",
   "metadata": {},
   "outputs": [
    {
     "name": "stdout",
     "output_type": "stream",
     "text": [
      "782/782 [==============================] - 1s 1ms/step - loss: 0.1392 - accuracy: 0.8496\n"
     ]
    }
   ],
   "source": [
    "results = model.evaluate(x_test, y_test)"
   ]
  },
  {
   "cell_type": "code",
   "execution_count": 16,
   "id": "22190590",
   "metadata": {},
   "outputs": [
    {
     "data": {
      "text/plain": [
       "[0.1391867995262146, 0.8496000170707703]"
      ]
     },
     "execution_count": 16,
     "metadata": {},
     "output_type": "execute_result"
    }
   ],
   "source": [
    "results"
   ]
  },
  {
   "cell_type": "markdown",
   "id": "b7abf977",
   "metadata": {},
   "source": [
    "#### Model Structure & Results"
   ]
  },
  {
   "cell_type": "code",
   "execution_count": 17,
   "id": "1d4a7121",
   "metadata": {},
   "outputs": [
    {
     "name": "stdout",
     "output_type": "stream",
     "text": [
      "Epoch 1/20\n",
      "59/59 [==============================] - 4s 55ms/step - loss: 1.4860 - accuracy: 0.7732 - val_loss: 1.1423 - val_accuracy: 0.8821\n",
      "Epoch 2/20\n",
      "59/59 [==============================] - 0s 8ms/step - loss: 0.9160 - accuracy: 0.8980 - val_loss: 0.6966 - val_accuracy: 0.8857\n",
      "Epoch 3/20\n",
      "59/59 [==============================] - 0s 8ms/step - loss: 0.5179 - accuracy: 0.9244 - val_loss: 0.3832 - val_accuracy: 0.8888\n",
      "Epoch 4/20\n",
      "59/59 [==============================] - 0s 8ms/step - loss: 0.2557 - accuracy: 0.9449 - val_loss: 0.1972 - val_accuracy: 0.8872\n",
      "Epoch 5/20\n",
      "59/59 [==============================] - 0s 8ms/step - loss: 0.1237 - accuracy: 0.9561 - val_loss: 0.1287 - val_accuracy: 0.8869\n",
      "Epoch 6/20\n",
      "59/59 [==============================] - 1s 9ms/step - loss: 0.0847 - accuracy: 0.9621 - val_loss: 0.1165 - val_accuracy: 0.8890\n",
      "Epoch 7/20\n",
      "59/59 [==============================] - 1s 9ms/step - loss: 0.0720 - accuracy: 0.9669 - val_loss: 0.1133 - val_accuracy: 0.8862\n",
      "Epoch 8/20\n",
      "59/59 [==============================] - 1s 9ms/step - loss: 0.0630 - accuracy: 0.9726 - val_loss: 0.1110 - val_accuracy: 0.8843\n",
      "Epoch 9/20\n",
      "59/59 [==============================] - 0s 8ms/step - loss: 0.0561 - accuracy: 0.9770 - val_loss: 0.1095 - val_accuracy: 0.8837\n",
      "Epoch 10/20\n",
      "59/59 [==============================] - 0s 8ms/step - loss: 0.0507 - accuracy: 0.9805 - val_loss: 0.1108 - val_accuracy: 0.8805\n",
      "Epoch 11/20\n",
      "59/59 [==============================] - 1s 9ms/step - loss: 0.0456 - accuracy: 0.9834 - val_loss: 0.1097 - val_accuracy: 0.8809\n",
      "Epoch 12/20\n",
      "59/59 [==============================] - 0s 8ms/step - loss: 0.0419 - accuracy: 0.9859 - val_loss: 0.1128 - val_accuracy: 0.8760\n",
      "Epoch 13/20\n",
      "59/59 [==============================] - 0s 8ms/step - loss: 0.0393 - accuracy: 0.9880 - val_loss: 0.1106 - val_accuracy: 0.8775\n",
      "Epoch 14/20\n",
      "59/59 [==============================] - 0s 8ms/step - loss: 0.0361 - accuracy: 0.9889 - val_loss: 0.1126 - val_accuracy: 0.8780\n",
      "Epoch 15/20\n",
      "59/59 [==============================] - 0s 8ms/step - loss: 0.0336 - accuracy: 0.9900 - val_loss: 0.1120 - val_accuracy: 0.8739\n",
      "Epoch 16/20\n",
      "59/59 [==============================] - 0s 8ms/step - loss: 0.0316 - accuracy: 0.9915 - val_loss: 0.1127 - val_accuracy: 0.8746\n",
      "Epoch 17/20\n",
      "59/59 [==============================] - 0s 8ms/step - loss: 0.0298 - accuracy: 0.9921 - val_loss: 0.1142 - val_accuracy: 0.8754\n",
      "Epoch 18/20\n",
      "59/59 [==============================] - 0s 8ms/step - loss: 0.0287 - accuracy: 0.9919 - val_loss: 0.1157 - val_accuracy: 0.8727\n",
      "Epoch 19/20\n",
      "59/59 [==============================] - 0s 8ms/step - loss: 0.0267 - accuracy: 0.9937 - val_loss: 0.1141 - val_accuracy: 0.8728\n",
      "Epoch 20/20\n",
      "59/59 [==============================] - 0s 7ms/step - loss: 0.0256 - accuracy: 0.9937 - val_loss: 0.1139 - val_accuracy: 0.8720\n"
     ]
    },
    {
     "data": {
      "image/png": "[encoded data removed]",
      "text/plain": [
       "<Figure size 640x480 with 1 Axes>"
      ]
     },
     "metadata": {},
     "output_type": "display_data"
    },
    {
     "name": "stdout",
     "output_type": "stream",
     "text": [
      "782/782 [==============================] - 1s 1ms/step - loss: 0.1225 - accuracy: 0.8624\n"
     ]
    },
    {
     "data": {
      "text/plain": [
       "[0.1224561408162117, 0.8624399900436401]"
      ]
     },
     "execution_count": 17,
     "metadata": {},
     "output_type": "execute_result"
    }
   ],
   "source": [
    "## Libraries required for setting up an environment\n",
    "\n",
    "\n",
    "from tensorflow import keras\n",
    "from tensorflow.keras import layers\n",
    "from keras.layers import Dense\n",
    "from keras.layers import Dropout\n",
    "from tensorflow.keras import regularizers\n",
    "\n",
    "\n",
    "# Neural network implementation using 3 layered approach with a single dropout layer\n",
    "\n",
    "model = keras.Sequential()\n",
    "model.add(Dense(32,activation='tanh')) \n",
    "model.add(Dropout(0.5))\n",
    "\n",
    "model.add(Dense(32,activation='tanh',kernel_regularizer=regularizers.L1(0.01), activity_regularizer=regularizers.L2(0.01)))\n",
    "model.add(Dropout(0.5))\n",
    "model.add(Dense(32,activation='tanh'))\n",
    "model.add(Dense(1, activation='sigmoid'))\n",
    "\n",
    "\n",
    "# Optimizer \"adagrad\" for squared error loss and accuracy metrics\n",
    "\n",
    "model.compile(optimizer=\"adam\",\n",
    "              loss=\"mean_squared_error\",\n",
    "              metrics=[\"accuracy\"])\n",
    "\n",
    "\n",
    "## Splitting the train data\n",
    "\n",
    "x_val = x_train[:10000]\n",
    "partial_x_train = x_train[10000:]\n",
    "y_val = y_train[:10000]\n",
    "partial_y_train = y_train[10000:]\n",
    "\n",
    "\n",
    "# Training a neural network\n",
    "\n",
    "history = model.fit(partial_x_train,\n",
    "                    partial_y_train,\n",
    "                    epochs=20,\n",
    "                    batch_size=256,\n",
    "                    validation_data=(x_val, y_val))\n",
    "\n",
    "\n",
    "# Training and Validation accuracy Plot\n",
    "\n",
    "plt.clf()\n",
    "acc = history_dict[\"accuracy\"]\n",
    "val_acc = history_dict[\"val_accuracy\"]\n",
    "plt.plot(epochs, acc, \"bo\", label=\"Training acc\")\n",
    "plt.plot(epochs, val_acc, \"b\", label=\"Validation acc\")\n",
    "plt.title(\"Training and validation accuracy\")\n",
    "plt.xlabel(\"Epochs\")\n",
    "plt.ylabel(\"Accuracy\")\n",
    "plt.legend()\n",
    "plt.show()\n",
    "\n",
    "\n",
    "\n",
    "# Results\n",
    "\n",
    "results = model.evaluate(x_test, y_test)\n",
    "results\n"
   ]
  },
  {
   "cell_type": "markdown",
   "id": "fbce14bc",
   "metadata": {},
   "source": [
    "###### References :\n",
    "https://keras.io/about, https://keras.io/api/optimizers/, https://keras.io/api/losses/\n"
   ]
  },
  {
   "cell_type": "code",
   "execution_count": null,
   "id": "e394a160",
   "metadata": {},
   "outputs": [],
   "source": []
  },
  {
   "cell_type": "markdown",
   "id": "1040099d",
   "metadata": {},
   "source": [
    "#### Conclusion\n",
    "\n",
    "As intructed, I have achieved the following in my code by building below:\n",
    "The neural network is designed with three layers, using the tanh activation function instead of relu, the Adam optimizer instead of rmsprop, applying L1 and L2 regularizers, and incorporating a dropout layer with a 50 percent dropout rate to enhance its performance and generalization capabilities.\n",
    "\n",
    "By modeling complicated non-linear correlations in the data, the network may be able to learn deeper patterns thanks to the tanh activation function. Compared to rmsprop, the Adam optimizer is renowned for its effective memory management and flexibility to handle various data types, which can result in faster convergence and higher overall performance. By punishing excessive weights, the L1 and L2 regularizers assist minimize overfitting and encourage the network to learn more straightforward and broadly applicable patterns. Furthermore, the dropout layer forces the network to acquire more resilient features by arbitrarily removing inputs during training, which reduces overfitting. All in all, these design decisions are meant to enhance the network's capacity to efficiently learn from the data and make good generalizations\n",
    "\n",
    "#### Final achieved results after incorporating all the changes:\n",
    "\n",
    "Accuracy = 99.37 \n",
    "Validation accuracy = 87.20\n",
    "\n"
   ]
  },
  {
   "cell_type": "code",
   "execution_count": null,
   "id": "96d9cd77",
   "metadata": {},
   "outputs": [],
   "source": []
  },
  {
   "cell_type": "code",
   "execution_count": null,
   "id": "5b9c2783",
   "metadata": {},
   "outputs": [],
   "source": []
  }
 ],
 "metadata": {
  "kernelspec": {
   "display_name": "Python 3 (ipykernel)",
   "language": "python",
   "name": "python3"
  },
  "language_info": {
   "codemirror_mode": {
    "name": "ipython",
    "version": 3
   },
   "file_extension": ".py",
   "mimetype": "text/x-python",
   "name": "python",
   "nbconvert_exporter": "python",
   "pygments_lexer": "ipython3",
   "version": "3.10.7"
  }
 },
 "nbformat": 4,
 "nbformat_minor": 5
}
